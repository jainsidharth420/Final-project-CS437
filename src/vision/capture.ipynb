{
 "cells": [
  {
   "cell_type": "code",
   "execution_count": null,
   "metadata": {},
   "outputs": [],
   "source": [
    "from picamera2 import Picamera2, Preview\n",
    "import time\n",
    "picam2 = Picamera2()\n",
    "camera_config = picam2.create_preview_configuration()\n",
    "picam2.configure(camera_config)\n",
    "picam2.start_preview(Preview.DRM)\n",
    "picam2.start()\n",
    "time.sleep(2)\n",
    "picam2.capture_file(\"test.jpg\")"
   ]
  }
 ],
 "metadata": {
  "language_info": {
   "name": "python"
  }
 },
 "nbformat": 4,
 "nbformat_minor": 2
}
